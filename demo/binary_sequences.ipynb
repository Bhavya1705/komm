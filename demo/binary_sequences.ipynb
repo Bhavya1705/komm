{
 "cells": [
  {
   "cell_type": "markdown",
   "metadata": {},
   "source": [
    "# Komm demo: Binary sequences"
   ]
  },
  {
   "cell_type": "code",
   "execution_count": 1,
   "metadata": {},
   "outputs": [],
   "source": [
    "%matplotlib inline\n",
    "\n",
    "import numpy as np\n",
    "import matplotlib.pylab as plt\n",
    "import ipywidgets\n",
    "import komm"
   ]
  },
  {
   "cell_type": "markdown",
   "metadata": {},
   "source": [
    "## Barker sequence"
   ]
  },
  {
   "cell_type": "code",
   "execution_count": 2,
   "metadata": {},
   "outputs": [
    {
     "name": "stderr",
     "output_type": "stream",
     "text": [
      "Widget Javascript not detected.  It may not be installed or enabled properly.\n"
     ]
    },
    {
     "data": {
      "application/vnd.jupyter.widget-view+json": {
       "model_id": "bf23498c7ffb40a0b4be2682f3a15da5"
      }
     },
     "metadata": {},
     "output_type": "display_data"
    }
   ],
   "source": [
    "def barker_demo(index):\n",
    "    length = [2, 3, 4, 5, 7, 11, 13][index]\n",
    "    barker = komm.BarkerSequence(length=length)\n",
    "    shifts = np.arange(-2*length + 1, 2*length)\n",
    "    _, (ax0, ax1) = plt.subplots(1, 2, figsize=(12, 4))\n",
    "    ax0.stem(np.arange(length), barker.polar_sequence)\n",
    "    ax0.set_title(repr(barker))\n",
    "    ax0.set_xlabel('$n$')\n",
    "    ax0.set_ylabel('$a[n]$')\n",
    "    ax0.set_xticks(np.arange(length))\n",
    "    ax0.set_yticks([-1, 0, 1])\n",
    "    ax1.stem(shifts, barker.autocorrelation(shifts))\n",
    "    ax1.set_title('Autocorrelation')\n",
    "    ax1.set_xlabel('$\\\\ell$')\n",
    "    ax1.set_ylabel('$R[\\\\ell]$')\n",
    "    ax1.set_xticks([-length, 0, length])\n",
    "    ax1.set_yticks(np.arange(-1, length + 1))\n",
    "    plt.show()\n",
    "\n",
    "ipywidgets.interact(barker_demo, index=(0, 6));"
   ]
  },
  {
   "cell_type": "markdown",
   "metadata": {},
   "source": [
    "## Walsh-Hadamard sequence"
   ]
  },
  {
   "cell_type": "code",
   "execution_count": 3,
   "metadata": {},
   "outputs": [
    {
     "name": "stderr",
     "output_type": "stream",
     "text": [
      "Widget Javascript not detected.  It may not be installed or enabled properly.\n"
     ]
    },
    {
     "data": {
      "application/vnd.jupyter.widget-view+json": {
       "model_id": "4fdb5acd602f47929a4cef93b984ca4a"
      }
     },
     "metadata": {},
     "output_type": "display_data"
    }
   ],
   "source": [
    "def walsh_hadamard_demo(log_length, ordering, index):\n",
    "    length = 2**log_length\n",
    "    walsh_hadamard = komm.WalshHadamardSequence(length=length, ordering=ordering, index=index)\n",
    "    ax = plt.axes()\n",
    "    ax.stem(np.arange(length), walsh_hadamard.polar_sequence)\n",
    "    ax.set_title(repr(walsh_hadamard))\n",
    "    ax.set_xlabel('$n$')\n",
    "    ax.set_ylabel('$a[n]$')\n",
    "    ax.set_yticks([-1, 0, 1])\n",
    "    ax.set_ylim([-1.2, 1.2])\n",
    "    plt.show()\n",
    "\n",
    "log_length_widget = ipywidgets.IntSlider(min=0, max=7, step=1, value=3)\n",
    "index_widget = ipywidgets.IntSlider(min=0, max=7, step=1, value=0)\n",
    "\n",
    "def update_index_widget(*args):\n",
    "    index_widget.max = 2 ** log_length_widget.value - 1\n",
    "log_length_widget.observe(update_index_widget, 'value')\n",
    "\n",
    "ipywidgets.interact(walsh_hadamard_demo, log_length=log_length_widget, ordering=['natural', 'sequency'], index=index_widget);"
   ]
  },
  {
   "cell_type": "markdown",
   "metadata": {},
   "source": [
    "## Linear-feedback shift register (LFSR) sequence -- Maximum-length sequence (MLS)"
   ]
  },
  {
   "cell_type": "code",
   "execution_count": 4,
   "metadata": {},
   "outputs": [
    {
     "name": "stderr",
     "output_type": "stream",
     "text": [
      "Widget Javascript not detected.  It may not be installed or enabled properly.\n"
     ]
    },
    {
     "data": {
      "application/vnd.jupyter.widget-view+json": {
       "model_id": "f411d312cf4744958ff7d4d28aee564d"
      }
     },
     "metadata": {},
     "output_type": "display_data"
    }
   ],
   "source": [
    "def lfsr_demo(degree):\n",
    "    lfsr = komm.LFSRSequence.maximum_length_sequence(degree=degree)\n",
    "    length = lfsr.length\n",
    "    shifts = np.arange(-2*length + 1, 2*length)\n",
    "    _, (ax0, ax1) = plt.subplots(1, 2, figsize=(12, 4))\n",
    "    ax0.stem(np.arange(length), lfsr.polar_sequence)\n",
    "    ax0.set_title(repr(lfsr))\n",
    "    ax0.set_xlabel('$n$')\n",
    "    ax0.set_ylabel('$a[n]$')\n",
    "    ax0.set_yticks([-1, 0, 1])\n",
    "    ax1.stem(shifts, lfsr.cyclic_autocorrelation(shifts, normalized=True))\n",
    "    ax1.set_title('Cyclic autocorrelation (normalized)')\n",
    "    ax1.set_xlabel('$\\\\ell$')\n",
    "    ax1.set_ylabel('$R[\\\\ell]$')\n",
    "    ax1.set_xticks([-length, 0, length])\n",
    "    ax1.set_ylim([-0.5, 1.1])\n",
    "    plt.show()\n",
    "\n",
    "ipywidgets.interact(lfsr_demo, degree=(2, 7));"
   ]
  }
 ],
 "metadata": {
  "kernelspec": {
   "display_name": "Python 3",
   "language": "python",
   "name": "python3"
  },
  "language_info": {
   "codemirror_mode": {
    "name": "ipython",
    "version": 3
   },
   "file_extension": ".py",
   "mimetype": "text/x-python",
   "name": "python",
   "nbconvert_exporter": "python",
   "pygments_lexer": "ipython3",
   "version": "3.6.5"
  }
 },
 "nbformat": 4,
 "nbformat_minor": 2
}
