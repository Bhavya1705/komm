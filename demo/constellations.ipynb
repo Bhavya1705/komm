{
 "cells": [
  {
   "cell_type": "markdown",
   "metadata": {},
   "source": [
    "# Komm demo: Constellations"
   ]
  },
  {
   "cell_type": "code",
   "execution_count": 1,
   "metadata": {},
   "outputs": [],
   "source": [
    "%matplotlib inline\n",
    "\n",
    "import numpy as np\n",
    "import matplotlib.pylab as plt\n",
    "import ipywidgets\n",
    "import komm"
   ]
  },
  {
   "cell_type": "code",
   "execution_count": 2,
   "metadata": {},
   "outputs": [],
   "source": [
    "def constellation_demo(modulation, noise_power_db, xlim, ylim):\n",
    "    awgn = komm.AWGNChannel()\n",
    "\n",
    "    num_symbols = 10000\n",
    "    noise_power = 10**(noise_power_db / 10)\n",
    "    awgn.signal_power = modulation.energy_per_symbol\n",
    "    awgn.snr = awgn.signal_power / noise_power\n",
    "    num_bits = modulation.bits_per_symbol * num_symbols\n",
    "    bits = np.random.randint(2, size=num_bits)\n",
    "    sentword = modulation.modulate(bits)\n",
    "    recvword = awgn(sentword)\n",
    "\n",
    "    _, ax = plt.subplots(figsize=(16, 10))\n",
    "    ax.scatter(recvword.real, recvword.imag, color='xkcd:light blue', s=1)\n",
    "    ax.scatter(modulation.constellation.real, modulation.constellation.imag, color='xkcd:blue', s=8**2)\n",
    "    for (i, point) in enumerate(modulation.constellation):\n",
    "        binary_label = ''.join(str(b) for b in komm.util.int2binlist(modulation.labeling[i], width=modulation.bits_per_symbol))\n",
    "        ax.text(point.real, point.imag + 0.075 * xlim[0], binary_label, horizontalalignment='center')\n",
    "    ax.set_title(repr(modulation))\n",
    "    ax.set_xlabel('Re')\n",
    "    ax.set_ylabel('Im')\n",
    "    ax.axis('square')\n",
    "    ax.set_xlim(xlim)\n",
    "    ax.set_ylim(ylim)\n",
    "    ax.grid()\n",
    "    info_text = 'SNR = {:.1f} dB\\n'.format(10*np.log10(awgn.snr))\n",
    "    info_text += 'Eb/N0 = {:.1f} dB'.format(10*np.log10(awgn.snr / modulation.bits_per_symbol))\n",
    "    ax.text(1.125 * xlim[1], 0.0, info_text, horizontalalignment='left', verticalalignment='center')\n",
    "    plt.show()"
   ]
  },
  {
   "cell_type": "markdown",
   "metadata": {},
   "source": [
    "## Phase-shift keying (PSK)"
   ]
  },
  {
   "cell_type": "code",
   "execution_count": 3,
   "metadata": {
    "scrolled": false
   },
   "outputs": [
    {
     "data": {
      "application/vnd.jupyter.widget-view+json": {
       "model_id": "16bde49374a74366ac7526159e295a58",
       "version_major": 2,
       "version_minor": 0
      },
      "text/plain": [
       "VBox(children=(HBox(children=(SelectionSlider(continuous_update=False, description='Order:', options=(2, 4, 8,…"
      ]
     },
     "metadata": {},
     "output_type": "display_data"
    }
   ],
   "source": [
    "def psk_constellation_demo(order, amplitude, phase_offset, labeling, noise_power_db):\n",
    "    psk_modulation = komm.PSKModulation(order, amplitude, phase_offset, labeling)\n",
    "    constellation_demo(psk_modulation, noise_power_db, xlim=[-3.0, 3.0], ylim=[-3.0, 3.0])\n",
    "\n",
    "order_widget = ipywidgets.SelectionSlider(\n",
    "    options=[2, 4, 8, 16, 32],\n",
    "    continuous_update=False,\n",
    "    description='Order:',\n",
    ")\n",
    "\n",
    "amplitude_widget = ipywidgets.FloatSlider(\n",
    "    min=0.1,\n",
    "    max=2.01,\n",
    "    step=0.1,\n",
    "    value=1.0,\n",
    "    continuous_update=False,\n",
    "    description='Amplitude:',\n",
    ")\n",
    "\n",
    "phase_offset_widget = ipywidgets.SelectionSlider(\n",
    "    options=[('{:.2f}π'.format(x), np.pi*x) for x in np.arange(0.0, 2.001, step=0.01)],\n",
    "    value=0.0,\n",
    "    continuous_update=False,\n",
    "    description='Phase offset:',\n",
    ")\n",
    "\n",
    "labeling_widget = ipywidgets.Dropdown(\n",
    "    options={'Natural': 'natural', 'Reflected (Gray)': 'reflected'},\n",
    "    value='reflected',\n",
    "    description='Labeling:',\n",
    ")\n",
    "\n",
    "noise_power_db_widget = ipywidgets.FloatSlider(\n",
    "    value=-40.0,\n",
    "    min=-40.0,\n",
    "    max=10.0,\n",
    "    step=1.0,\n",
    "    continuous_update=False,\n",
    "    description='Noise power (dB):',\n",
    ")\n",
    "\n",
    "interactive_output = ipywidgets.interactive_output(\n",
    "    psk_constellation_demo,\n",
    "    dict(\n",
    "        order=order_widget,\n",
    "        amplitude=amplitude_widget,\n",
    "        phase_offset=phase_offset_widget,\n",
    "        labeling=labeling_widget,\n",
    "        noise_power_db=noise_power_db_widget,\n",
    "    ),\n",
    ")\n",
    "\n",
    "ipywidgets.VBox(\n",
    "    [\n",
    "        ipywidgets.HBox(\n",
    "            [\n",
    "                order_widget,\n",
    "                amplitude_widget,\n",
    "                phase_offset_widget,\n",
    "                labeling_widget,\n",
    "            ]\n",
    "        ),\n",
    "        noise_power_db_widget,\n",
    "        interactive_output,\n",
    "    ],\n",
    ")"
   ]
  },
  {
   "cell_type": "markdown",
   "metadata": {},
   "source": [
    "## Quadrature Amplitude Modulation (QAM)"
   ]
  },
  {
   "cell_type": "code",
   "execution_count": 4,
   "metadata": {},
   "outputs": [
    {
     "data": {
      "application/vnd.jupyter.widget-view+json": {
       "model_id": "19321262f62f40089e1a299092f9a31e",
       "version_major": 2,
       "version_minor": 0
      },
      "text/plain": [
       "VBox(children=(HBox(children=(SelectionSlider(continuous_update=False, description='Order:', options=(4, 16, 6…"
      ]
     },
     "metadata": {},
     "output_type": "display_data"
    }
   ],
   "source": [
    "def qam_constellation_demo(order, base_amplitude, phase_offset, labeling, noise_power_db):\n",
    "    qam_modulation = komm.QAModulation(order, base_amplitude, phase_offset, labeling)\n",
    "    lim = [-2.125*np.sqrt(order), 2.125*np.sqrt(order)]\n",
    "    constellation_demo(qam_modulation, noise_power_db, xlim=lim, ylim=lim)\n",
    "\n",
    "order_widget = ipywidgets.SelectionSlider(\n",
    "    options=[4, 16, 64, 256],\n",
    "    continuous_update=False,\n",
    "    description='Order:',\n",
    ")\n",
    "\n",
    "base_amplitude_widget = ipywidgets.FloatSlider(\n",
    "    min=0.1,\n",
    "    max=2.01,\n",
    "    step=0.1,\n",
    "    value=1.0,\n",
    "    continuous_update=False,\n",
    "    description='Base amplitude:',\n",
    ")\n",
    "\n",
    "phase_offset_widget = ipywidgets.SelectionSlider(\n",
    "    options=[('{:.2f}π'.format(x), np.pi*x) for x in np.arange(0.0, 2.001, step=0.01)],\n",
    "    value=0.0,\n",
    "    continuous_update=False,\n",
    "    description='Phase offset:',\n",
    ")\n",
    "\n",
    "labeling_widget = ipywidgets.Dropdown(\n",
    "    options={'Natural': 'natural', 'Reflected 2D (Gray)': 'reflected_2d'},\n",
    "    value='reflected_2d',\n",
    "    description='Labeling:',\n",
    ")\n",
    "\n",
    "\n",
    "noise_power_db_widget = ipywidgets.FloatSlider(\n",
    "    value=-40.0,\n",
    "    min=-40.0,\n",
    "    max=10.0,\n",
    "    step=1.0,\n",
    "    continuous_update=False,\n",
    "    description='Noise power (dB):',\n",
    ")\n",
    "\n",
    "interactive_output = ipywidgets.interactive_output(\n",
    "    qam_constellation_demo,\n",
    "    dict(\n",
    "        order=order_widget,\n",
    "        base_amplitude=base_amplitude_widget,\n",
    "        phase_offset=phase_offset_widget,\n",
    "        labeling=labeling_widget,\n",
    "        noise_power_db=noise_power_db_widget,\n",
    "    ),\n",
    ")\n",
    "\n",
    "ipywidgets.VBox(\n",
    "    [\n",
    "        ipywidgets.HBox(\n",
    "            [\n",
    "                order_widget,\n",
    "                base_amplitude_widget,\n",
    "                phase_offset_widget,\n",
    "                labeling_widget,\n",
    "            ]\n",
    "        ),\n",
    "        noise_power_db_widget,\n",
    "        interactive_output,\n",
    "    ],\n",
    ")"
   ]
  }
 ],
 "metadata": {
  "kernelspec": {
   "display_name": "Python 3",
   "language": "python",
   "name": "python3"
  },
  "language_info": {
   "codemirror_mode": {
    "name": "ipython",
    "version": 3
   },
   "file_extension": ".py",
   "mimetype": "text/x-python",
   "name": "python",
   "nbconvert_exporter": "python",
   "pygments_lexer": "ipython3",
   "version": "3.6.5"
  }
 },
 "nbformat": 4,
 "nbformat_minor": 2
}
