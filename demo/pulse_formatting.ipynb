{
 "cells": [
  {
   "cell_type": "markdown",
   "metadata": {},
   "source": [
    "# Komm demo: Pulse formatting"
   ]
  },
  {
   "cell_type": "code",
   "execution_count": 1,
   "metadata": {},
   "outputs": [],
   "source": [
    "%matplotlib inline\n",
    "\n",
    "import numpy as np\n",
    "import matplotlib.pylab as plt\n",
    "import ipywidgets\n",
    "import komm"
   ]
  },
  {
   "cell_type": "markdown",
   "metadata": {},
   "source": [
    "## Raised cosine pulse"
   ]
  },
  {
   "cell_type": "code",
   "execution_count": 2,
   "metadata": {},
   "outputs": [
    {
     "data": {
      "application/vnd.jupyter.widget-view+json": {
       "model_id": "bf3995dbce3843f5ae17015d3af413db"
      }
     },
     "metadata": {},
     "output_type": "display_data"
    }
   ],
   "source": [
    "def raised_cosine_demo(rolloff):\n",
    "    pulse = komm.RaisedCosinePulse(rolloff, length_in_symbols=20)\n",
    "    h = pulse.impulse_response\n",
    "    H = pulse.frequency_response\n",
    "    t = np.linspace(-8.0, 8.0, 1000)\n",
    "    f = np.linspace(-1.5, 1.5, 200)\n",
    "\n",
    "    _, (ax0, ax1) = plt.subplots(1, 2, figsize=(16, 5))\n",
    "    ax0.plot(t, h(t), 'b')\n",
    "    ax0.axis([-7.1, 7.1, -.3, 1.1])\n",
    "    ax0.set_title('Raised cosine pulse (waveform)')\n",
    "    ax0.set_xlabel('$t$')\n",
    "    ax0.set_ylabel('$h(t)$')\n",
    "    ax0.grid()\n",
    "    ax1.plot(f, H(f), 'r')\n",
    "    ax1.axis([-1.1, 1.1, -.1, 1.1])\n",
    "    ax1.set_title('Raised cosine pulse (spectrum)')\n",
    "    ax1.set_xlabel('$f$')\n",
    "    ax1.set_ylabel('$H(f)$')\n",
    "    ax1.grid()\n",
    "    plt.show()\n",
    "\n",
    "rolloff_widget = ipywidgets.FloatSlider(min=0, max=1.0, step=0.1, value=0.5)\n",
    "\n",
    "ipywidgets.interact(raised_cosine_demo, rolloff=rolloff_widget);"
   ]
  },
  {
   "cell_type": "markdown",
   "metadata": {},
   "source": [
    "## Gaussian pulse"
   ]
  },
  {
   "cell_type": "code",
   "execution_count": 3,
   "metadata": {},
   "outputs": [
    {
     "data": {
      "application/vnd.jupyter.widget-view+json": {
       "model_id": "276ce218631641589f3f4d63b201fc7d"
      }
     },
     "metadata": {},
     "output_type": "display_data"
    }
   ],
   "source": [
    "def gaussian_pulse_demo(half_power_bandwidth):\n",
    "    pulse = komm.GaussianPulse(half_power_bandwidth, length_in_symbols=4)\n",
    "    h = pulse.impulse_response\n",
    "    H = pulse.frequency_response\n",
    "    t = np.linspace(-8.0, 8.0, 1000)\n",
    "    f = np.linspace(-4.0, 4.0, 500)\n",
    "\n",
    "    _, (ax0, ax1) = plt.subplots(1, 2, figsize=(16, 5))\n",
    "    ax0.plot(t, h(t), 'b')\n",
    "    ax0.axis([-7.1, 7.1, -.1, 1.1])\n",
    "    ax0.set_title('Gaussian pulse (waveform)')\n",
    "    ax0.set_xlabel('$t$')\n",
    "    ax0.set_ylabel('$h(t)$')\n",
    "    ax0.grid()\n",
    "    ax1.plot(f, H(f), 'r')\n",
    "    ax1.plot([-4.0, 4.0], [H(0.0) / np.sqrt(2), H(0.0) / np.sqrt(2)], linestyle='dashed', color='gray')\n",
    "    ax1.plot([half_power_bandwidth, half_power_bandwidth], [-0.1*H(0.0), 1.1 * H(0.0)], linestyle='dashed', color='gray')\n",
    "    ax1.plot([-half_power_bandwidth, -half_power_bandwidth], [-0.1*H(0.0), 1.1 * H(0.0)], linestyle='dashed', color='gray')\n",
    "    ax1.axis([-2.0, 2.0, -0.1*H(0.0), 1.1 * H(0.0)])\n",
    "    ax1.set_title('Gaussian pulse (spectrum)')\n",
    "    ax1.set_xlabel('$f$')\n",
    "    ax1.set_ylabel('$H(f)$')\n",
    "    ax1.grid()\n",
    "    plt.show()\n",
    "\n",
    "half_power_bandwidth_widget = ipywidgets.FloatSlider(min=0.05, max=1.0, step=0.01, value=0.5)\n",
    "\n",
    "ipywidgets.interact(gaussian_pulse_demo, half_power_bandwidth=half_power_bandwidth_widget);"
   ]
  }
 ],
 "metadata": {
  "kernelspec": {
   "display_name": "Python 3",
   "language": "python",
   "name": "python3"
  },
  "language_info": {
   "codemirror_mode": {
    "name": "ipython",
    "version": 3
   },
   "file_extension": ".py",
   "mimetype": "text/x-python",
   "name": "python",
   "nbconvert_exporter": "python",
   "pygments_lexer": "ipython3",
   "version": "3.6.5"
  }
 },
 "nbformat": 4,
 "nbformat_minor": 2
}
